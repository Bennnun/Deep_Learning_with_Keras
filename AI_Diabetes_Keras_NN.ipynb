{
  "nbformat": 4,
  "nbformat_minor": 0,
  "metadata": {
    "colab": {
      "name": "AI_Diabetes_Keras_NN.ipynb",
      "version": "0.3.2",
      "provenance": [],
      "collapsed_sections": [],
      "include_colab_link": true
    },
    "kernelspec": {
      "name": "python3",
      "display_name": "Python 3"
    },
    "accelerator": "GPU"
  },
  "cells": [
    {
      "cell_type": "markdown",
      "metadata": {
        "id": "view-in-github",
        "colab_type": "text"
      },
      "source": [
        "<a href=\"https://colab.research.google.com/github/paulgureghian/Deep_Learning_with_Keras/blob/master/AI_Diabetes_Keras_NN.ipynb\" target=\"_parent\"><img src=\"https://colab.research.google.com/assets/colab-badge.svg\" alt=\"Open In Colab\"/></a>"
      ]
    },
    {
      "metadata": {
        "id": "QepDoOmPHFya",
        "colab_type": "text"
      },
      "cell_type": "markdown",
      "source": [
        "## **Created by Paul A. Gureghian in Jan 2019.**\n",
        "\n",
        "**This Python notebook will build an AI application for** \n",
        "\n",
        "**detecting diabetes using a Keras Neural Network.**\n",
        "\n",
        "\n",
        "**The dataset used is:**    \n",
        "\n",
        "**'pima_indians_diabetes.csv'.**"
      ]
    },
    {
      "metadata": {
        "id": "P6QcV32jm_jT",
        "colab_type": "text"
      },
      "cell_type": "markdown",
      "source": [
        "# **Pre-process the data.**\n",
        "\n",
        "* **Mount Google drive.**\n",
        "* **Import packages.**\n",
        "* **Import dataset.**\n",
        "* **Pre-process the dataset.**"
      ]
    },
    {
      "metadata": {
        "id": "BLbcpcydQ_S_",
        "colab_type": "code",
        "colab": {
          "base_uri": "https://localhost:8080/",
          "height": 122
        },
        "outputId": "890c84bf-bc4a-46be-bbf1-96d4547fefe9"
      },
      "cell_type": "code",
      "source": [
        "### Mount Google drive\n",
        "from google.colab import drive\n",
        "drive.mount('/content/drive')"
      ],
      "execution_count": 1,
      "outputs": [
        {
          "output_type": "stream",
          "text": [
            "Go to this URL in a browser: https://accounts.google.com/o/oauth2/auth?client_id=947318989803-6bn6qk8qdgf4n4g3pfee6491hc0brc4i.apps.googleusercontent.com&redirect_uri=urn%3Aietf%3Awg%3Aoauth%3A2.0%3Aoob&scope=email%20https%3A%2F%2Fwww.googleapis.com%2Fauth%2Fdocs.test%20https%3A%2F%2Fwww.googleapis.com%2Fauth%2Fdrive%20https%3A%2F%2Fwww.googleapis.com%2Fauth%2Fdrive.photos.readonly%20https%3A%2F%2Fwww.googleapis.com%2Fauth%2Fpeopleapi.readonly&response_type=code\n",
            "\n",
            "Enter your authorization code:\n",
            "··········\n",
            "Mounted at /content/drive\n"
          ],
          "name": "stdout"
        }
      ]
    },
    {
      "metadata": {
        "id": "rZbLyKaADRGn",
        "colab_type": "code",
        "colab": {
          "base_uri": "https://localhost:8080/",
          "height": 34
        },
        "outputId": "9154fab1-b311-47d8-8247-818ef12f2d95"
      },
      "cell_type": "code",
      "source": [
        "### Import packages\n",
        "import numpy as np\n",
        "import pandas as pd \n",
        "from keras.layers import Dense\n",
        "from keras.utils import np_utils\n",
        "from keras.models import Sequential\n",
        "from sklearn.preprocessing import scale\n",
        "from sklearn.metrics import accuracy_score\n",
        "from sklearn.model_selection import train_test_split"
      ],
      "execution_count": 2,
      "outputs": [
        {
          "output_type": "stream",
          "text": [
            "Using TensorFlow backend.\n"
          ],
          "name": "stderr"
        }
      ]
    },
    {
      "metadata": {
        "id": "nuR1Vp1xPTzF",
        "colab_type": "code",
        "colab": {
          "base_uri": "https://localhost:8080/",
          "height": 204
        },
        "outputId": "428fea1e-7e73-4b83-b88b-ad801707c7c4"
      },
      "cell_type": "code",
      "source": [
        "### Import the dataset\n",
        "df = pd.read_csv('/content/drive/My Drive/Pima_Indians_Diabetes/pima_indians_diabetes.csv', header=None)   \n",
        "df.head() "
      ],
      "execution_count": 3,
      "outputs": [
        {
          "output_type": "execute_result",
          "data": {
            "text/html": [
              "<div>\n",
              "<style scoped>\n",
              "    .dataframe tbody tr th:only-of-type {\n",
              "        vertical-align: middle;\n",
              "    }\n",
              "\n",
              "    .dataframe tbody tr th {\n",
              "        vertical-align: top;\n",
              "    }\n",
              "\n",
              "    .dataframe thead th {\n",
              "        text-align: right;\n",
              "    }\n",
              "</style>\n",
              "<table border=\"1\" class=\"dataframe\">\n",
              "  <thead>\n",
              "    <tr style=\"text-align: right;\">\n",
              "      <th></th>\n",
              "      <th>0</th>\n",
              "      <th>1</th>\n",
              "      <th>2</th>\n",
              "      <th>3</th>\n",
              "      <th>4</th>\n",
              "      <th>5</th>\n",
              "      <th>6</th>\n",
              "      <th>7</th>\n",
              "      <th>8</th>\n",
              "    </tr>\n",
              "  </thead>\n",
              "  <tbody>\n",
              "    <tr>\n",
              "      <th>0</th>\n",
              "      <td>6</td>\n",
              "      <td>148</td>\n",
              "      <td>72</td>\n",
              "      <td>35</td>\n",
              "      <td>0</td>\n",
              "      <td>33.6</td>\n",
              "      <td>0.627</td>\n",
              "      <td>50</td>\n",
              "      <td>1</td>\n",
              "    </tr>\n",
              "    <tr>\n",
              "      <th>1</th>\n",
              "      <td>1</td>\n",
              "      <td>85</td>\n",
              "      <td>66</td>\n",
              "      <td>29</td>\n",
              "      <td>0</td>\n",
              "      <td>26.6</td>\n",
              "      <td>0.351</td>\n",
              "      <td>31</td>\n",
              "      <td>0</td>\n",
              "    </tr>\n",
              "    <tr>\n",
              "      <th>2</th>\n",
              "      <td>8</td>\n",
              "      <td>183</td>\n",
              "      <td>64</td>\n",
              "      <td>0</td>\n",
              "      <td>0</td>\n",
              "      <td>23.3</td>\n",
              "      <td>0.672</td>\n",
              "      <td>32</td>\n",
              "      <td>1</td>\n",
              "    </tr>\n",
              "    <tr>\n",
              "      <th>3</th>\n",
              "      <td>1</td>\n",
              "      <td>89</td>\n",
              "      <td>66</td>\n",
              "      <td>23</td>\n",
              "      <td>94</td>\n",
              "      <td>28.1</td>\n",
              "      <td>0.167</td>\n",
              "      <td>21</td>\n",
              "      <td>0</td>\n",
              "    </tr>\n",
              "    <tr>\n",
              "      <th>4</th>\n",
              "      <td>0</td>\n",
              "      <td>137</td>\n",
              "      <td>40</td>\n",
              "      <td>35</td>\n",
              "      <td>168</td>\n",
              "      <td>43.1</td>\n",
              "      <td>2.288</td>\n",
              "      <td>33</td>\n",
              "      <td>1</td>\n",
              "    </tr>\n",
              "  </tbody>\n",
              "</table>\n",
              "</div>"
            ],
            "text/plain": [
              "   0    1   2   3    4     5      6   7  8\n",
              "0  6  148  72  35    0  33.6  0.627  50  1\n",
              "1  1   85  66  29    0  26.6  0.351  31  0\n",
              "2  8  183  64   0    0  23.3  0.672  32  1\n",
              "3  1   89  66  23   94  28.1  0.167  21  0\n",
              "4  0  137  40  35  168  43.1  2.288  33  1"
            ]
          },
          "metadata": {
            "tags": []
          },
          "execution_count": 3
        }
      ]
    },
    {
      "metadata": {
        "id": "Xuw2fOrqTOt9",
        "colab_type": "code",
        "colab": {
          "base_uri": "https://localhost:8080/",
          "height": 306
        },
        "outputId": "f3f8b902-9c3c-4636-f200-d3cdba106873"
      },
      "cell_type": "code",
      "source": [
        "### Set the feature and target variables \n",
        "X = df.drop(8, axis=1)\n",
        "y = df[8] \n",
        "\n",
        "print('X:\\n\\n', X.head(), '\\n')\n",
        "print('y:\\n\\n', y.head()) "
      ],
      "execution_count": 4,
      "outputs": [
        {
          "output_type": "stream",
          "text": [
            "X:\n",
            "\n",
            "    0    1   2   3    4     5      6   7\n",
            "0  6  148  72  35    0  33.6  0.627  50\n",
            "1  1   85  66  29    0  26.6  0.351  31\n",
            "2  8  183  64   0    0  23.3  0.672  32\n",
            "3  1   89  66  23   94  28.1  0.167  21\n",
            "4  0  137  40  35  168  43.1  2.288  33 \n",
            "\n",
            "y:\n",
            "\n",
            " 0    1\n",
            "1    0\n",
            "2    1\n",
            "3    0\n",
            "4    1\n",
            "Name: 8, dtype: int64\n"
          ],
          "name": "stdout"
        }
      ]
    },
    {
      "metadata": {
        "id": "3AA_7GdtWZJ_",
        "colab_type": "code",
        "colab": {
          "base_uri": "https://localhost:8080/",
          "height": 309
        },
        "outputId": "5af9e78c-4bbf-4d50-8a41-286e744dcca8"
      },
      "cell_type": "code",
      "source": [
        "### Scale the data\n",
        "X = scale(X) \n",
        "\n",
        "print('Scaled_X:\\n', X) "
      ],
      "execution_count": 5,
      "outputs": [
        {
          "output_type": "stream",
          "text": [
            "Scaled_X:\n",
            " [[ 0.63994726  0.84832379  0.14964075 ...  0.20401277  0.46849198\n",
            "   1.4259954 ]\n",
            " [-0.84488505 -1.12339636 -0.16054575 ... -0.68442195 -0.36506078\n",
            "  -0.19067191]\n",
            " [ 1.23388019  1.94372388 -0.26394125 ... -1.10325546  0.60439732\n",
            "  -0.10558415]\n",
            " ...\n",
            " [ 0.3429808   0.00330087  0.14964075 ... -0.73518964 -0.68519336\n",
            "  -0.27575966]\n",
            " [-0.84488505  0.1597866  -0.47073225 ... -0.24020459 -0.37110101\n",
            "   1.17073215]\n",
            " [-0.84488505 -0.8730192   0.04624525 ... -0.20212881 -0.47378505\n",
            "  -0.87137393]]\n"
          ],
          "name": "stdout"
        },
        {
          "output_type": "stream",
          "text": [
            "/usr/local/lib/python3.6/dist-packages/ipykernel_launcher.py:1: DataConversionWarning: Data with input dtype int64, float64 were all converted to float64 by the scale function.\n",
            "  \"\"\"Entry point for launching an IPython kernel.\n"
          ],
          "name": "stderr"
        }
      ]
    },
    {
      "metadata": {
        "id": "9lSx1iaGX1Eq",
        "colab_type": "code",
        "colab": {}
      },
      "cell_type": "code",
      "source": [
        "### Split dataset into 'train' & 'test' sets\n",
        "X_train, X_test, y_train, y_test = train_test_split(X, y, test_size=0.33, random_state=42)"
      ],
      "execution_count": 0,
      "outputs": []
    },
    {
      "metadata": {
        "id": "PEbb3rnwijP5",
        "colab_type": "code",
        "colab": {
          "base_uri": "https://localhost:8080/",
          "height": 153
        },
        "outputId": "efc0f33f-0429-43e3-f2c9-e7888cc977fa"
      },
      "cell_type": "code",
      "source": [
        "### One hot encoding the target variable\n",
        "y_train = np_utils.to_categorical(y_train)\n",
        "\n",
        "print('Y_Train Encoded:\\n', y_train) "
      ],
      "execution_count": 7,
      "outputs": [
        {
          "output_type": "stream",
          "text": [
            "Y_Train Encoded:\n",
            " [[1. 0.]\n",
            " [1. 0.]\n",
            " [1. 0.]\n",
            " ...\n",
            " [0. 1.]\n",
            " [0. 1.]\n",
            " [1. 0.]]\n"
          ],
          "name": "stdout"
        }
      ]
    },
    {
      "metadata": {
        "id": "pwRXNPFeoqAa",
        "colab_type": "text"
      },
      "cell_type": "markdown",
      "source": [
        "# **Design and build the neural network model.**"
      ]
    },
    {
      "metadata": {
        "id": "zwc1sHLPqEgR",
        "colab_type": "text"
      },
      "cell_type": "markdown",
      "source": [
        "  **The model design:**\n",
        "  \n",
        "  * **3 layers.**\n",
        "  * **22 total neurons.**\n",
        "  * **Relu & Sigmoid activation functions.**"
      ]
    },
    {
      "metadata": {
        "id": "U8X47ruBsEzB",
        "colab_type": "code",
        "colab": {}
      },
      "cell_type": "code",
      "source": [
        "### Define the neural network model\n",
        "model = Sequential()\n",
        "model.add(Dense(12, input_dim=8, activation='relu'))\n",
        "model.add(Dense(8, activation='relu'))\n",
        "model.add(Dense(2, activation='sigmoid'))"
      ],
      "execution_count": 0,
      "outputs": []
    },
    {
      "metadata": {
        "id": "djux0lYatPvx",
        "colab_type": "code",
        "colab": {}
      },
      "cell_type": "code",
      "source": [
        "### Compile the model\n",
        "model.compile(loss='binary_crossentropy', optimizer='adam', metrics=['accuracy'])  "
      ],
      "execution_count": 0,
      "outputs": []
    },
    {
      "metadata": {
        "id": "5C0c4sx9uA4h",
        "colab_type": "code",
        "colab": {
          "base_uri": "https://localhost:8080/",
          "height": 5134
        },
        "outputId": "8d0fa82a-99d1-4c7e-fcd5-e509206382c4"
      },
      "cell_type": "code",
      "source": [
        "### Train the model on the training sets\n",
        "model.fit(X_train, y_train, epochs=150, batch_size=10) "
      ],
      "execution_count": 10,
      "outputs": [
        {
          "output_type": "stream",
          "text": [
            "Epoch 1/150\n",
            "514/514 [==============================] - 2s 5ms/step - loss: 0.8473 - acc: 0.4027\n",
            "Epoch 2/150\n",
            "514/514 [==============================] - 0s 521us/step - loss: 0.7437 - acc: 0.4475\n",
            "Epoch 3/150\n",
            "514/514 [==============================] - 0s 555us/step - loss: 0.6864 - acc: 0.5302\n",
            "Epoch 4/150\n",
            "514/514 [==============================] - 0s 600us/step - loss: 0.6461 - acc: 0.6770\n",
            "Epoch 5/150\n",
            "514/514 [==============================] - 0s 572us/step - loss: 0.6112 - acc: 0.7023\n",
            "Epoch 6/150\n",
            "514/514 [==============================] - 0s 535us/step - loss: 0.5788 - acc: 0.7218\n",
            "Epoch 7/150\n",
            "514/514 [==============================] - 0s 519us/step - loss: 0.5480 - acc: 0.7325\n",
            "Epoch 8/150\n",
            "514/514 [==============================] - 0s 537us/step - loss: 0.5225 - acc: 0.7412\n",
            "Epoch 9/150\n",
            "514/514 [==============================] - 0s 539us/step - loss: 0.5028 - acc: 0.7510\n",
            "Epoch 10/150\n",
            "514/514 [==============================] - 0s 514us/step - loss: 0.4876 - acc: 0.7636\n",
            "Epoch 11/150\n",
            "514/514 [==============================] - 0s 524us/step - loss: 0.4759 - acc: 0.7665\n",
            "Epoch 12/150\n",
            "514/514 [==============================] - 0s 534us/step - loss: 0.4669 - acc: 0.7743\n",
            "Epoch 13/150\n",
            "514/514 [==============================] - 0s 530us/step - loss: 0.4587 - acc: 0.7840\n",
            "Epoch 14/150\n",
            "514/514 [==============================] - 0s 515us/step - loss: 0.4535 - acc: 0.7879\n",
            "Epoch 15/150\n",
            "514/514 [==============================] - 0s 518us/step - loss: 0.4471 - acc: 0.7899\n",
            "Epoch 16/150\n",
            "514/514 [==============================] - 0s 541us/step - loss: 0.4436 - acc: 0.7860\n",
            "Epoch 17/150\n",
            "514/514 [==============================] - 0s 517us/step - loss: 0.4395 - acc: 0.7938\n",
            "Epoch 18/150\n",
            "514/514 [==============================] - 0s 529us/step - loss: 0.4362 - acc: 0.7928\n",
            "Epoch 19/150\n",
            "514/514 [==============================] - 0s 512us/step - loss: 0.4345 - acc: 0.7977\n",
            "Epoch 20/150\n",
            "514/514 [==============================] - 0s 562us/step - loss: 0.4307 - acc: 0.7967\n",
            "Epoch 21/150\n",
            "514/514 [==============================] - 0s 516us/step - loss: 0.4300 - acc: 0.7967\n",
            "Epoch 22/150\n",
            "514/514 [==============================] - 0s 520us/step - loss: 0.4272 - acc: 0.8035\n",
            "Epoch 23/150\n",
            "514/514 [==============================] - 0s 530us/step - loss: 0.4260 - acc: 0.8035\n",
            "Epoch 24/150\n",
            "514/514 [==============================] - 0s 524us/step - loss: 0.4239 - acc: 0.7957\n",
            "Epoch 25/150\n",
            "514/514 [==============================] - 0s 525us/step - loss: 0.4232 - acc: 0.8035\n",
            "Epoch 26/150\n",
            "514/514 [==============================] - 0s 528us/step - loss: 0.4218 - acc: 0.7996\n",
            "Epoch 27/150\n",
            "514/514 [==============================] - 0s 566us/step - loss: 0.4210 - acc: 0.7986\n",
            "Epoch 28/150\n",
            "514/514 [==============================] - 0s 547us/step - loss: 0.4190 - acc: 0.8006\n",
            "Epoch 29/150\n",
            "514/514 [==============================] - 0s 564us/step - loss: 0.4179 - acc: 0.8006\n",
            "Epoch 30/150\n",
            "514/514 [==============================] - 0s 548us/step - loss: 0.4180 - acc: 0.8006\n",
            "Epoch 31/150\n",
            "514/514 [==============================] - 0s 557us/step - loss: 0.4164 - acc: 0.8016\n",
            "Epoch 32/150\n",
            "514/514 [==============================] - 0s 553us/step - loss: 0.4153 - acc: 0.7996\n",
            "Epoch 33/150\n",
            "514/514 [==============================] - 0s 554us/step - loss: 0.4151 - acc: 0.8054\n",
            "Epoch 34/150\n",
            "514/514 [==============================] - 0s 585us/step - loss: 0.4141 - acc: 0.8084\n",
            "Epoch 35/150\n",
            "514/514 [==============================] - 0s 557us/step - loss: 0.4154 - acc: 0.8025\n",
            "Epoch 36/150\n",
            "514/514 [==============================] - 0s 560us/step - loss: 0.4138 - acc: 0.7947\n",
            "Epoch 37/150\n",
            "514/514 [==============================] - 0s 565us/step - loss: 0.4115 - acc: 0.8016\n",
            "Epoch 38/150\n",
            "514/514 [==============================] - 0s 581us/step - loss: 0.4109 - acc: 0.8006\n",
            "Epoch 39/150\n",
            "514/514 [==============================] - 0s 593us/step - loss: 0.4101 - acc: 0.7996\n",
            "Epoch 40/150\n",
            "514/514 [==============================] - 0s 571us/step - loss: 0.4095 - acc: 0.8016\n",
            "Epoch 41/150\n",
            "514/514 [==============================] - 0s 584us/step - loss: 0.4094 - acc: 0.8016\n",
            "Epoch 42/150\n",
            "514/514 [==============================] - 0s 556us/step - loss: 0.4103 - acc: 0.8025\n",
            "Epoch 43/150\n",
            "514/514 [==============================] - 0s 542us/step - loss: 0.4075 - acc: 0.8064\n",
            "Epoch 44/150\n",
            "514/514 [==============================] - 0s 568us/step - loss: 0.4081 - acc: 0.8035\n",
            "Epoch 45/150\n",
            "514/514 [==============================] - 0s 583us/step - loss: 0.4072 - acc: 0.8006\n",
            "Epoch 46/150\n",
            "514/514 [==============================] - 0s 576us/step - loss: 0.4065 - acc: 0.7996\n",
            "Epoch 47/150\n",
            "514/514 [==============================] - 0s 555us/step - loss: 0.4055 - acc: 0.8054\n",
            "Epoch 48/150\n",
            "514/514 [==============================] - 0s 558us/step - loss: 0.4058 - acc: 0.8045\n",
            "Epoch 49/150\n",
            "514/514 [==============================] - 0s 560us/step - loss: 0.4051 - acc: 0.8016\n",
            "Epoch 50/150\n",
            "514/514 [==============================] - 0s 553us/step - loss: 0.4045 - acc: 0.8054\n",
            "Epoch 51/150\n",
            "514/514 [==============================] - 0s 516us/step - loss: 0.4035 - acc: 0.8045\n",
            "Epoch 52/150\n",
            "514/514 [==============================] - 0s 564us/step - loss: 0.4036 - acc: 0.8016\n",
            "Epoch 53/150\n",
            "514/514 [==============================] - 0s 547us/step - loss: 0.4030 - acc: 0.8025\n",
            "Epoch 54/150\n",
            "514/514 [==============================] - 0s 554us/step - loss: 0.4025 - acc: 0.8025\n",
            "Epoch 55/150\n",
            "514/514 [==============================] - 0s 542us/step - loss: 0.4017 - acc: 0.8016\n",
            "Epoch 56/150\n",
            "514/514 [==============================] - 0s 560us/step - loss: 0.4019 - acc: 0.8035\n",
            "Epoch 57/150\n",
            "514/514 [==============================] - 0s 556us/step - loss: 0.4009 - acc: 0.8045\n",
            "Epoch 58/150\n",
            "514/514 [==============================] - 0s 543us/step - loss: 0.4011 - acc: 0.8064\n",
            "Epoch 59/150\n",
            "514/514 [==============================] - 0s 558us/step - loss: 0.4004 - acc: 0.8035\n",
            "Epoch 60/150\n",
            "514/514 [==============================] - 0s 556us/step - loss: 0.4001 - acc: 0.8045\n",
            "Epoch 61/150\n",
            "514/514 [==============================] - 0s 548us/step - loss: 0.4001 - acc: 0.8016\n",
            "Epoch 62/150\n",
            "514/514 [==============================] - 0s 511us/step - loss: 0.3996 - acc: 0.8054\n",
            "Epoch 63/150\n",
            "514/514 [==============================] - 0s 554us/step - loss: 0.3990 - acc: 0.8064\n",
            "Epoch 64/150\n",
            "514/514 [==============================] - 0s 540us/step - loss: 0.3984 - acc: 0.8054\n",
            "Epoch 65/150\n",
            "514/514 [==============================] - 0s 545us/step - loss: 0.3980 - acc: 0.8084\n",
            "Epoch 66/150\n",
            "514/514 [==============================] - 0s 511us/step - loss: 0.3973 - acc: 0.8045\n",
            "Epoch 67/150\n",
            "514/514 [==============================] - 0s 530us/step - loss: 0.3959 - acc: 0.8074\n",
            "Epoch 68/150\n",
            "514/514 [==============================] - 0s 547us/step - loss: 0.3982 - acc: 0.8054\n",
            "Epoch 69/150\n",
            "514/514 [==============================] - 0s 504us/step - loss: 0.3963 - acc: 0.8045\n",
            "Epoch 70/150\n",
            "514/514 [==============================] - 0s 558us/step - loss: 0.3957 - acc: 0.8093\n",
            "Epoch 71/150\n",
            "514/514 [==============================] - 0s 511us/step - loss: 0.3944 - acc: 0.8074\n",
            "Epoch 72/150\n",
            "514/514 [==============================] - 0s 504us/step - loss: 0.3952 - acc: 0.8093\n",
            "Epoch 73/150\n",
            "514/514 [==============================] - 0s 538us/step - loss: 0.3944 - acc: 0.8093\n",
            "Epoch 74/150\n",
            "514/514 [==============================] - 0s 552us/step - loss: 0.3934 - acc: 0.8123\n",
            "Epoch 75/150\n",
            "514/514 [==============================] - 0s 520us/step - loss: 0.3935 - acc: 0.8093\n",
            "Epoch 76/150\n",
            "514/514 [==============================] - 0s 522us/step - loss: 0.3926 - acc: 0.8142\n",
            "Epoch 77/150\n",
            "514/514 [==============================] - 0s 508us/step - loss: 0.3925 - acc: 0.8074\n",
            "Epoch 78/150\n",
            "514/514 [==============================] - 0s 554us/step - loss: 0.3927 - acc: 0.8123\n",
            "Epoch 79/150\n",
            "514/514 [==============================] - 0s 512us/step - loss: 0.3909 - acc: 0.8123\n",
            "Epoch 80/150\n",
            "514/514 [==============================] - 0s 516us/step - loss: 0.3912 - acc: 0.8171\n",
            "Epoch 81/150\n",
            "514/514 [==============================] - 0s 519us/step - loss: 0.3892 - acc: 0.8152\n",
            "Epoch 82/150\n",
            "514/514 [==============================] - 0s 555us/step - loss: 0.3891 - acc: 0.8161\n",
            "Epoch 83/150\n",
            "514/514 [==============================] - 0s 507us/step - loss: 0.3882 - acc: 0.8171\n",
            "Epoch 84/150\n",
            "514/514 [==============================] - 0s 506us/step - loss: 0.3880 - acc: 0.8142\n",
            "Epoch 85/150\n",
            "514/514 [==============================] - 0s 542us/step - loss: 0.3869 - acc: 0.8123\n",
            "Epoch 86/150\n",
            "514/514 [==============================] - 0s 506us/step - loss: 0.3876 - acc: 0.8132\n",
            "Epoch 87/150\n",
            "514/514 [==============================] - 0s 529us/step - loss: 0.3871 - acc: 0.8113\n",
            "Epoch 88/150\n",
            "514/514 [==============================] - 0s 563us/step - loss: 0.3861 - acc: 0.8171\n",
            "Epoch 89/150\n",
            "514/514 [==============================] - 0s 548us/step - loss: 0.3856 - acc: 0.8181\n",
            "Epoch 90/150\n",
            "514/514 [==============================] - 0s 512us/step - loss: 0.3859 - acc: 0.8191\n",
            "Epoch 91/150\n",
            "514/514 [==============================] - 0s 516us/step - loss: 0.3854 - acc: 0.8161\n",
            "Epoch 92/150\n",
            "514/514 [==============================] - 0s 508us/step - loss: 0.3849 - acc: 0.8161\n",
            "Epoch 93/150\n",
            "514/514 [==============================] - 0s 571us/step - loss: 0.3845 - acc: 0.8191\n",
            "Epoch 94/150\n",
            "514/514 [==============================] - 0s 513us/step - loss: 0.3831 - acc: 0.8210\n",
            "Epoch 95/150\n",
            "514/514 [==============================] - 0s 517us/step - loss: 0.3830 - acc: 0.8220\n",
            "Epoch 96/150\n",
            "514/514 [==============================] - 0s 522us/step - loss: 0.3838 - acc: 0.8200\n",
            "Epoch 97/150\n",
            "514/514 [==============================] - 0s 579us/step - loss: 0.3833 - acc: 0.8191\n",
            "Epoch 98/150\n",
            "514/514 [==============================] - 0s 511us/step - loss: 0.3828 - acc: 0.8191\n",
            "Epoch 99/150\n",
            "514/514 [==============================] - 0s 512us/step - loss: 0.3813 - acc: 0.8239\n",
            "Epoch 100/150\n",
            "514/514 [==============================] - 0s 546us/step - loss: 0.3823 - acc: 0.8171\n",
            "Epoch 101/150\n",
            "514/514 [==============================] - 0s 520us/step - loss: 0.3816 - acc: 0.8200\n",
            "Epoch 102/150\n",
            "514/514 [==============================] - 0s 525us/step - loss: 0.3803 - acc: 0.8210\n",
            "Epoch 103/150\n",
            "514/514 [==============================] - 0s 511us/step - loss: 0.3793 - acc: 0.8210\n",
            "Epoch 104/150\n",
            "514/514 [==============================] - 0s 528us/step - loss: 0.3798 - acc: 0.8200\n",
            "Epoch 105/150\n",
            "514/514 [==============================] - 0s 515us/step - loss: 0.3803 - acc: 0.8230\n",
            "Epoch 106/150\n",
            "514/514 [==============================] - 0s 515us/step - loss: 0.3787 - acc: 0.8181\n",
            "Epoch 107/150\n",
            "514/514 [==============================] - 0s 520us/step - loss: 0.3794 - acc: 0.8210\n",
            "Epoch 108/150\n",
            "514/514 [==============================] - 0s 557us/step - loss: 0.3779 - acc: 0.8230\n",
            "Epoch 109/150\n",
            "514/514 [==============================] - 0s 520us/step - loss: 0.3781 - acc: 0.8210\n",
            "Epoch 110/150\n",
            "514/514 [==============================] - 0s 506us/step - loss: 0.3777 - acc: 0.8220\n",
            "Epoch 111/150\n",
            "514/514 [==============================] - 0s 525us/step - loss: 0.3767 - acc: 0.8230\n",
            "Epoch 112/150\n",
            "514/514 [==============================] - 0s 548us/step - loss: 0.3755 - acc: 0.8268\n",
            "Epoch 113/150\n",
            "514/514 [==============================] - 0s 518us/step - loss: 0.3767 - acc: 0.8249\n",
            "Epoch 114/150\n",
            "514/514 [==============================] - 0s 508us/step - loss: 0.3768 - acc: 0.8200\n",
            "Epoch 115/150\n",
            "514/514 [==============================] - 0s 557us/step - loss: 0.3766 - acc: 0.8249\n",
            "Epoch 116/150\n",
            "514/514 [==============================] - 0s 512us/step - loss: 0.3750 - acc: 0.8181\n",
            "Epoch 117/150\n",
            "514/514 [==============================] - 0s 555us/step - loss: 0.3754 - acc: 0.8230\n",
            "Epoch 118/150\n",
            "514/514 [==============================] - 0s 544us/step - loss: 0.3740 - acc: 0.8239\n",
            "Epoch 119/150\n",
            "514/514 [==============================] - 0s 542us/step - loss: 0.3749 - acc: 0.8239\n",
            "Epoch 120/150\n",
            "514/514 [==============================] - 0s 522us/step - loss: 0.3731 - acc: 0.8259\n",
            "Epoch 121/150\n",
            "514/514 [==============================] - 0s 524us/step - loss: 0.3727 - acc: 0.8268\n",
            "Epoch 122/150\n",
            "514/514 [==============================] - 0s 518us/step - loss: 0.3731 - acc: 0.8210\n",
            "Epoch 123/150\n",
            "514/514 [==============================] - 0s 526us/step - loss: 0.3718 - acc: 0.8288\n",
            "Epoch 124/150\n",
            "514/514 [==============================] - 0s 515us/step - loss: 0.3730 - acc: 0.8317\n",
            "Epoch 125/150\n",
            "514/514 [==============================] - 0s 513us/step - loss: 0.3718 - acc: 0.8210\n",
            "Epoch 126/150\n",
            "514/514 [==============================] - 0s 554us/step - loss: 0.3713 - acc: 0.8239\n",
            "Epoch 127/150\n",
            "514/514 [==============================] - 0s 540us/step - loss: 0.3703 - acc: 0.8239\n",
            "Epoch 128/150\n",
            "514/514 [==============================] - 0s 503us/step - loss: 0.3703 - acc: 0.8181\n",
            "Epoch 129/150\n",
            "514/514 [==============================] - 0s 525us/step - loss: 0.3701 - acc: 0.8210\n",
            "Epoch 130/150\n",
            "514/514 [==============================] - 0s 524us/step - loss: 0.3695 - acc: 0.8249\n",
            "Epoch 131/150\n",
            "514/514 [==============================] - 0s 520us/step - loss: 0.3689 - acc: 0.8220\n",
            "Epoch 132/150\n",
            "514/514 [==============================] - 0s 513us/step - loss: 0.3697 - acc: 0.8220\n",
            "Epoch 133/150\n",
            "514/514 [==============================] - 0s 520us/step - loss: 0.3683 - acc: 0.8268\n",
            "Epoch 134/150\n",
            "514/514 [==============================] - 0s 543us/step - loss: 0.3698 - acc: 0.8210\n",
            "Epoch 135/150\n",
            "514/514 [==============================] - 0s 515us/step - loss: 0.3680 - acc: 0.8239\n",
            "Epoch 136/150\n",
            "514/514 [==============================] - 0s 513us/step - loss: 0.3677 - acc: 0.8230\n",
            "Epoch 137/150\n",
            "514/514 [==============================] - 0s 521us/step - loss: 0.3669 - acc: 0.8288\n",
            "Epoch 138/150\n",
            "514/514 [==============================] - 0s 558us/step - loss: 0.3670 - acc: 0.8230\n",
            "Epoch 139/150\n",
            "514/514 [==============================] - 0s 510us/step - loss: 0.3668 - acc: 0.8210\n",
            "Epoch 140/150\n",
            "514/514 [==============================] - 0s 527us/step - loss: 0.3667 - acc: 0.8230\n",
            "Epoch 141/150\n",
            "514/514 [==============================] - 0s 544us/step - loss: 0.3649 - acc: 0.8268\n",
            "Epoch 142/150\n",
            "514/514 [==============================] - 0s 545us/step - loss: 0.3651 - acc: 0.8278\n",
            "Epoch 143/150\n",
            "514/514 [==============================] - 0s 527us/step - loss: 0.3645 - acc: 0.8307\n",
            "Epoch 144/150\n",
            "514/514 [==============================] - 0s 512us/step - loss: 0.3649 - acc: 0.8278\n",
            "Epoch 145/150\n",
            "514/514 [==============================] - 0s 545us/step - loss: 0.3656 - acc: 0.8278\n",
            "Epoch 146/150\n",
            "514/514 [==============================] - 0s 508us/step - loss: 0.3635 - acc: 0.8268\n",
            "Epoch 147/150\n",
            "514/514 [==============================] - 0s 522us/step - loss: 0.3630 - acc: 0.8288\n",
            "Epoch 148/150\n",
            "514/514 [==============================] - 0s 546us/step - loss: 0.3631 - acc: 0.8327\n",
            "Epoch 149/150\n",
            "514/514 [==============================] - 0s 542us/step - loss: 0.3626 - acc: 0.8268\n",
            "Epoch 150/150\n",
            "514/514 [==============================] - 0s 512us/step - loss: 0.3626 - acc: 0.8278\n"
          ],
          "name": "stdout"
        },
        {
          "output_type": "execute_result",
          "data": {
            "text/plain": [
              "<keras.callbacks.History at 0x7f2cff9ec940>"
            ]
          },
          "metadata": {
            "tags": []
          },
          "execution_count": 10
        }
      ]
    },
    {
      "metadata": {
        "id": "oGaAYJU0u9S0",
        "colab_type": "text"
      },
      "cell_type": "markdown",
      "source": [
        "# **Post training of the model.**"
      ]
    },
    {
      "metadata": {
        "id": "YYluzBBUy2WQ",
        "colab_type": "text"
      },
      "cell_type": "markdown",
      "source": [
        "* **Get a prediction.**\n",
        "* **Evaluate the accuracy of the prediction.**\n",
        "* **Plot the loss function.**"
      ]
    },
    {
      "metadata": {
        "id": "i0UQeVGkzYUR",
        "colab_type": "code",
        "colab": {
          "base_uri": "https://localhost:8080/",
          "height": 435
        },
        "outputId": "3a2516ee-9a2f-48a6-8371-a8fa351e8874"
      },
      "cell_type": "code",
      "source": [
        "### Prediction and Evaluation \n",
        "y_pred = model.predict(X_test)\n",
        "\n",
        "y_Pred = np.argmax(y_pred, axis=1) \n",
        "\n",
        "accuracy_score(y_test, y_pred) "
      ],
      "execution_count": 12,
      "outputs": [
        {
          "output_type": "error",
          "ename": "ValueError",
          "evalue": "ignored",
          "traceback": [
            "\u001b[0;31m---------------------------------------------------------------------------\u001b[0m",
            "\u001b[0;31mValueError\u001b[0m                                Traceback (most recent call last)",
            "\u001b[0;32m<ipython-input-12-abe73f00149e>\u001b[0m in \u001b[0;36m<module>\u001b[0;34m()\u001b[0m\n\u001b[1;32m      3\u001b[0m \u001b[0my_Pred\u001b[0m \u001b[0;34m=\u001b[0m \u001b[0mnp\u001b[0m\u001b[0;34m.\u001b[0m\u001b[0margmax\u001b[0m\u001b[0;34m(\u001b[0m\u001b[0my_pred\u001b[0m\u001b[0;34m,\u001b[0m \u001b[0maxis\u001b[0m\u001b[0;34m=\u001b[0m\u001b[0;36m1\u001b[0m\u001b[0;34m)\u001b[0m\u001b[0;34m\u001b[0m\u001b[0;34m\u001b[0m\u001b[0m\n\u001b[1;32m      4\u001b[0m \u001b[0;34m\u001b[0m\u001b[0m\n\u001b[0;32m----> 5\u001b[0;31m \u001b[0maccuracy_score\u001b[0m\u001b[0;34m(\u001b[0m\u001b[0my_test\u001b[0m\u001b[0;34m,\u001b[0m \u001b[0my_pred\u001b[0m\u001b[0;34m)\u001b[0m\u001b[0;34m\u001b[0m\u001b[0;34m\u001b[0m\u001b[0m\n\u001b[0m",
            "\u001b[0;32m/usr/local/lib/python3.6/dist-packages/sklearn/metrics/classification.py\u001b[0m in \u001b[0;36maccuracy_score\u001b[0;34m(y_true, y_pred, normalize, sample_weight)\u001b[0m\n\u001b[1;32m    174\u001b[0m \u001b[0;34m\u001b[0m\u001b[0m\n\u001b[1;32m    175\u001b[0m     \u001b[0;31m# Compute accuracy for each possible representation\u001b[0m\u001b[0;34m\u001b[0m\u001b[0;34m\u001b[0m\u001b[0;34m\u001b[0m\u001b[0m\n\u001b[0;32m--> 176\u001b[0;31m     \u001b[0my_type\u001b[0m\u001b[0;34m,\u001b[0m \u001b[0my_true\u001b[0m\u001b[0;34m,\u001b[0m \u001b[0my_pred\u001b[0m \u001b[0;34m=\u001b[0m \u001b[0m_check_targets\u001b[0m\u001b[0;34m(\u001b[0m\u001b[0my_true\u001b[0m\u001b[0;34m,\u001b[0m \u001b[0my_pred\u001b[0m\u001b[0;34m)\u001b[0m\u001b[0;34m\u001b[0m\u001b[0;34m\u001b[0m\u001b[0m\n\u001b[0m\u001b[1;32m    177\u001b[0m     \u001b[0mcheck_consistent_length\u001b[0m\u001b[0;34m(\u001b[0m\u001b[0my_true\u001b[0m\u001b[0;34m,\u001b[0m \u001b[0my_pred\u001b[0m\u001b[0;34m,\u001b[0m \u001b[0msample_weight\u001b[0m\u001b[0;34m)\u001b[0m\u001b[0;34m\u001b[0m\u001b[0;34m\u001b[0m\u001b[0m\n\u001b[1;32m    178\u001b[0m     \u001b[0;32mif\u001b[0m \u001b[0my_type\u001b[0m\u001b[0;34m.\u001b[0m\u001b[0mstartswith\u001b[0m\u001b[0;34m(\u001b[0m\u001b[0;34m'multilabel'\u001b[0m\u001b[0;34m)\u001b[0m\u001b[0;34m:\u001b[0m\u001b[0;34m\u001b[0m\u001b[0;34m\u001b[0m\u001b[0m\n",
            "\u001b[0;32m/usr/local/lib/python3.6/dist-packages/sklearn/metrics/classification.py\u001b[0m in \u001b[0;36m_check_targets\u001b[0;34m(y_true, y_pred)\u001b[0m\n\u001b[1;32m     79\u001b[0m     \u001b[0;32mif\u001b[0m \u001b[0mlen\u001b[0m\u001b[0;34m(\u001b[0m\u001b[0my_type\u001b[0m\u001b[0;34m)\u001b[0m \u001b[0;34m>\u001b[0m \u001b[0;36m1\u001b[0m\u001b[0;34m:\u001b[0m\u001b[0;34m\u001b[0m\u001b[0;34m\u001b[0m\u001b[0m\n\u001b[1;32m     80\u001b[0m         raise ValueError(\"Classification metrics can't handle a mix of {0} \"\n\u001b[0;32m---> 81\u001b[0;31m                          \"and {1} targets\".format(type_true, type_pred))\n\u001b[0m\u001b[1;32m     82\u001b[0m \u001b[0;34m\u001b[0m\u001b[0m\n\u001b[1;32m     83\u001b[0m     \u001b[0;31m# We can't have more than one value on y_type => The set is no more needed\u001b[0m\u001b[0;34m\u001b[0m\u001b[0;34m\u001b[0m\u001b[0;34m\u001b[0m\u001b[0m\n",
            "\u001b[0;31mValueError\u001b[0m: Classification metrics can't handle a mix of binary and continuous-multioutput targets"
          ]
        }
      ]
    }
  ]
}