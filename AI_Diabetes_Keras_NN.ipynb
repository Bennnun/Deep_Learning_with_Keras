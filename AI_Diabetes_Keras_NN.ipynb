{
  "nbformat": 4,
  "nbformat_minor": 0,
  "metadata": {
    "colab": {
      "name": "AI_Diabetes_Keras_NN.ipynb",
      "version": "0.3.2",
      "provenance": [],
      "collapsed_sections": [],
      "include_colab_link": true
    },
    "kernelspec": {
      "name": "python3",
      "display_name": "Python 3"
    },
    "accelerator": "GPU"
  },
  "cells": [
    {
      "cell_type": "markdown",
      "metadata": {
        "id": "view-in-github",
        "colab_type": "text"
      },
      "source": [
        "<a href=\"https://colab.research.google.com/github/paulgureghian/Deep_Learning_with_Keras/blob/master/AI_Diabetes_Keras_NN.ipynb\" target=\"_parent\"><img src=\"https://colab.research.google.com/assets/colab-badge.svg\" alt=\"Open In Colab\"/></a>"
      ]
    },
    {
      "metadata": {
        "id": "QepDoOmPHFya",
        "colab_type": "text"
      },
      "cell_type": "markdown",
      "source": [
        "## **Created by Paul A. Gureghian in Jan 2019.**\n",
        "\n",
        "**This Python notebook will build an AI application for** \n",
        "\n",
        "**detecting diabetes using a Keras Neural Network.**\n",
        "\n",
        "\n",
        "**The dataset used is:**    \n",
        "\n",
        "**'pima_indians_diabetes.csv'.**"
      ]
    },
    {
      "metadata": {
        "id": "P6QcV32jm_jT",
        "colab_type": "text"
      },
      "cell_type": "markdown",
      "source": [
        "# **Pre-process the data.**\n",
        "\n",
        "* **Mount Google drive.**\n",
        "* **Import packages.**\n",
        "* **Import dataset.**\n",
        "* **Pre-process the dataset.**"
      ]
    },
    {
      "metadata": {
        "id": "BLbcpcydQ_S_",
        "colab_type": "code",
        "outputId": "b0d9eaf5-c630-441e-ae26-2e3b56b2084e",
        "colab": {
          "base_uri": "https://localhost:8080/",
          "height": 34
        }
      },
      "cell_type": "code",
      "source": [
        "### Mount Google drive\n",
        "from google.colab import drive\n",
        "drive.mount('/content/drive')"
      ],
      "execution_count": 16,
      "outputs": [
        {
          "output_type": "stream",
          "text": [
            "Drive already mounted at /content/drive; to attempt to forcibly remount, call drive.mount(\"/content/drive\", force_remount=True).\n"
          ],
          "name": "stdout"
        }
      ]
    },
    {
      "metadata": {
        "id": "rZbLyKaADRGn",
        "colab_type": "code",
        "colab": {}
      },
      "cell_type": "code",
      "source": [
        "### Import packages\n",
        "import numpy as np\n",
        "import pandas as pd \n",
        "from keras.layers import Dense\n",
        "import matplotlib.pyplot as plt\n",
        "from keras.utils import np_utils\n",
        "from keras.models import Sequential\n",
        "from sklearn.preprocessing import scale\n",
        "from sklearn.metrics import accuracy_score\n",
        "from sklearn.model_selection import train_test_split"
      ],
      "execution_count": 0,
      "outputs": []
    },
    {
      "metadata": {
        "id": "nuR1Vp1xPTzF",
        "colab_type": "code",
        "outputId": "899de227-85df-4c52-e6fe-0d6dea3a0a7d",
        "colab": {
          "base_uri": "https://localhost:8080/",
          "height": 204
        }
      },
      "cell_type": "code",
      "source": [
        "### Import the dataset\n",
        "df = pd.read_csv('/content/drive/My Drive/Pima_Indians_Diabetes/pima_indians_diabetes.csv', header=None)   \n",
        "df.head() "
      ],
      "execution_count": 18,
      "outputs": [
        {
          "output_type": "execute_result",
          "data": {
            "text/html": [
              "<div>\n",
              "<style scoped>\n",
              "    .dataframe tbody tr th:only-of-type {\n",
              "        vertical-align: middle;\n",
              "    }\n",
              "\n",
              "    .dataframe tbody tr th {\n",
              "        vertical-align: top;\n",
              "    }\n",
              "\n",
              "    .dataframe thead th {\n",
              "        text-align: right;\n",
              "    }\n",
              "</style>\n",
              "<table border=\"1\" class=\"dataframe\">\n",
              "  <thead>\n",
              "    <tr style=\"text-align: right;\">\n",
              "      <th></th>\n",
              "      <th>0</th>\n",
              "      <th>1</th>\n",
              "      <th>2</th>\n",
              "      <th>3</th>\n",
              "      <th>4</th>\n",
              "      <th>5</th>\n",
              "      <th>6</th>\n",
              "      <th>7</th>\n",
              "      <th>8</th>\n",
              "    </tr>\n",
              "  </thead>\n",
              "  <tbody>\n",
              "    <tr>\n",
              "      <th>0</th>\n",
              "      <td>6</td>\n",
              "      <td>148</td>\n",
              "      <td>72</td>\n",
              "      <td>35</td>\n",
              "      <td>0</td>\n",
              "      <td>33.6</td>\n",
              "      <td>0.627</td>\n",
              "      <td>50</td>\n",
              "      <td>1</td>\n",
              "    </tr>\n",
              "    <tr>\n",
              "      <th>1</th>\n",
              "      <td>1</td>\n",
              "      <td>85</td>\n",
              "      <td>66</td>\n",
              "      <td>29</td>\n",
              "      <td>0</td>\n",
              "      <td>26.6</td>\n",
              "      <td>0.351</td>\n",
              "      <td>31</td>\n",
              "      <td>0</td>\n",
              "    </tr>\n",
              "    <tr>\n",
              "      <th>2</th>\n",
              "      <td>8</td>\n",
              "      <td>183</td>\n",
              "      <td>64</td>\n",
              "      <td>0</td>\n",
              "      <td>0</td>\n",
              "      <td>23.3</td>\n",
              "      <td>0.672</td>\n",
              "      <td>32</td>\n",
              "      <td>1</td>\n",
              "    </tr>\n",
              "    <tr>\n",
              "      <th>3</th>\n",
              "      <td>1</td>\n",
              "      <td>89</td>\n",
              "      <td>66</td>\n",
              "      <td>23</td>\n",
              "      <td>94</td>\n",
              "      <td>28.1</td>\n",
              "      <td>0.167</td>\n",
              "      <td>21</td>\n",
              "      <td>0</td>\n",
              "    </tr>\n",
              "    <tr>\n",
              "      <th>4</th>\n",
              "      <td>0</td>\n",
              "      <td>137</td>\n",
              "      <td>40</td>\n",
              "      <td>35</td>\n",
              "      <td>168</td>\n",
              "      <td>43.1</td>\n",
              "      <td>2.288</td>\n",
              "      <td>33</td>\n",
              "      <td>1</td>\n",
              "    </tr>\n",
              "  </tbody>\n",
              "</table>\n",
              "</div>"
            ],
            "text/plain": [
              "   0    1   2   3    4     5      6   7  8\n",
              "0  6  148  72  35    0  33.6  0.627  50  1\n",
              "1  1   85  66  29    0  26.6  0.351  31  0\n",
              "2  8  183  64   0    0  23.3  0.672  32  1\n",
              "3  1   89  66  23   94  28.1  0.167  21  0\n",
              "4  0  137  40  35  168  43.1  2.288  33  1"
            ]
          },
          "metadata": {
            "tags": []
          },
          "execution_count": 18
        }
      ]
    },
    {
      "metadata": {
        "id": "Xuw2fOrqTOt9",
        "colab_type": "code",
        "outputId": "0f2b3f2c-9d60-422e-d95c-e8894a961d89",
        "colab": {
          "base_uri": "https://localhost:8080/",
          "height": 306
        }
      },
      "cell_type": "code",
      "source": [
        "### Set the feature and target variables \n",
        "X = df.drop(8, axis=1)\n",
        "y = df[8] \n",
        "\n",
        "print('X:\\n\\n', X.head(), '\\n')\n",
        "print('y:\\n\\n', y.head()) "
      ],
      "execution_count": 19,
      "outputs": [
        {
          "output_type": "stream",
          "text": [
            "X:\n",
            "\n",
            "    0    1   2   3    4     5      6   7\n",
            "0  6  148  72  35    0  33.6  0.627  50\n",
            "1  1   85  66  29    0  26.6  0.351  31\n",
            "2  8  183  64   0    0  23.3  0.672  32\n",
            "3  1   89  66  23   94  28.1  0.167  21\n",
            "4  0  137  40  35  168  43.1  2.288  33 \n",
            "\n",
            "y:\n",
            "\n",
            " 0    1\n",
            "1    0\n",
            "2    1\n",
            "3    0\n",
            "4    1\n",
            "Name: 8, dtype: int64\n"
          ],
          "name": "stdout"
        }
      ]
    },
    {
      "metadata": {
        "id": "3AA_7GdtWZJ_",
        "colab_type": "code",
        "outputId": "63c00fc5-7747-46ec-f5f4-3f9e7aae84d8",
        "colab": {
          "base_uri": "https://localhost:8080/",
          "height": 309
        }
      },
      "cell_type": "code",
      "source": [
        "### Scale the data\n",
        "X = scale(X) \n",
        "\n",
        "print('Scaled_X:\\n', X) "
      ],
      "execution_count": 20,
      "outputs": [
        {
          "output_type": "stream",
          "text": [
            "Scaled_X:\n",
            " [[ 0.63994726  0.84832379  0.14964075 ...  0.20401277  0.46849198\n",
            "   1.4259954 ]\n",
            " [-0.84488505 -1.12339636 -0.16054575 ... -0.68442195 -0.36506078\n",
            "  -0.19067191]\n",
            " [ 1.23388019  1.94372388 -0.26394125 ... -1.10325546  0.60439732\n",
            "  -0.10558415]\n",
            " ...\n",
            " [ 0.3429808   0.00330087  0.14964075 ... -0.73518964 -0.68519336\n",
            "  -0.27575966]\n",
            " [-0.84488505  0.1597866  -0.47073225 ... -0.24020459 -0.37110101\n",
            "   1.17073215]\n",
            " [-0.84488505 -0.8730192   0.04624525 ... -0.20212881 -0.47378505\n",
            "  -0.87137393]]\n"
          ],
          "name": "stdout"
        },
        {
          "output_type": "stream",
          "text": [
            "/usr/local/lib/python3.6/dist-packages/ipykernel_launcher.py:1: DataConversionWarning: Data with input dtype int64, float64 were all converted to float64 by the scale function.\n",
            "  \"\"\"Entry point for launching an IPython kernel.\n"
          ],
          "name": "stderr"
        }
      ]
    },
    {
      "metadata": {
        "id": "9lSx1iaGX1Eq",
        "colab_type": "code",
        "colab": {}
      },
      "cell_type": "code",
      "source": [
        "### Split dataset into 'train' & 'test' sets\n",
        "X_train, X_test, y_train, y_test = train_test_split(X, y, test_size=0.33, random_state=42)"
      ],
      "execution_count": 0,
      "outputs": []
    },
    {
      "metadata": {
        "id": "PEbb3rnwijP5",
        "colab_type": "code",
        "outputId": "f3e9b24c-3034-4ada-f6eb-8f5a6c1743d8",
        "colab": {
          "base_uri": "https://localhost:8080/",
          "height": 153
        }
      },
      "cell_type": "code",
      "source": [
        "### One hot encoding the target variable\n",
        "y_train = np_utils.to_categorical(y_train)\n",
        "\n",
        "print('Y_Train Encoded:\\n', y_train) "
      ],
      "execution_count": 22,
      "outputs": [
        {
          "output_type": "stream",
          "text": [
            "Y_Train Encoded:\n",
            " [[1. 0.]\n",
            " [1. 0.]\n",
            " [1. 0.]\n",
            " ...\n",
            " [0. 1.]\n",
            " [0. 1.]\n",
            " [1. 0.]]\n"
          ],
          "name": "stdout"
        }
      ]
    },
    {
      "metadata": {
        "id": "pwRXNPFeoqAa",
        "colab_type": "text"
      },
      "cell_type": "markdown",
      "source": [
        "# **Design and build the neural network model.**"
      ]
    },
    {
      "metadata": {
        "id": "zwc1sHLPqEgR",
        "colab_type": "text"
      },
      "cell_type": "markdown",
      "source": [
        "  **The model design:**\n",
        "  \n",
        "  * **3 layers.**\n",
        "  * **22 total neurons.**\n",
        "  * **Relu & Sigmoid activation functions.**"
      ]
    },
    {
      "metadata": {
        "id": "U8X47ruBsEzB",
        "colab_type": "code",
        "colab": {}
      },
      "cell_type": "code",
      "source": [
        "### Define the neural network model\n",
        "model = Sequential()\n",
        "model.add(Dense(12, input_dim=8, activation='relu'))\n",
        "model.add(Dense(8, activation='relu'))\n",
        "model.add(Dense(2, activation='sigmoid'))"
      ],
      "execution_count": 0,
      "outputs": []
    },
    {
      "metadata": {
        "id": "djux0lYatPvx",
        "colab_type": "code",
        "colab": {}
      },
      "cell_type": "code",
      "source": [
        "### Compile the model\n",
        "model.compile(loss='binary_crossentropy', optimizer='adam', metrics=['accuracy'])  "
      ],
      "execution_count": 0,
      "outputs": []
    },
    {
      "metadata": {
        "id": "5C0c4sx9uA4h",
        "colab_type": "code",
        "outputId": "718ffb06-babf-4279-ae0a-20ee5ea1f938",
        "colab": {
          "base_uri": "https://localhost:8080/",
          "height": 5134
        }
      },
      "cell_type": "code",
      "source": [
        "### Train the model on the training sets\n",
        "model.fit(X_train, y_train, epochs=150, batch_size=10) "
      ],
      "execution_count": 25,
      "outputs": [
        {
          "output_type": "stream",
          "text": [
            "Epoch 1/150\n",
            "514/514 [==============================] - 1s 999us/step - loss: 0.7292 - acc: 0.5195\n",
            "Epoch 2/150\n",
            "514/514 [==============================] - 0s 498us/step - loss: 0.6594 - acc: 0.6274\n",
            "Epoch 3/150\n",
            "514/514 [==============================] - 0s 511us/step - loss: 0.6235 - acc: 0.6722\n",
            "Epoch 4/150\n",
            "514/514 [==============================] - 0s 498us/step - loss: 0.5973 - acc: 0.6946\n",
            "Epoch 5/150\n",
            "514/514 [==============================] - 0s 483us/step - loss: 0.5755 - acc: 0.7198\n",
            "Epoch 6/150\n",
            "514/514 [==============================] - 0s 461us/step - loss: 0.5548 - acc: 0.7374\n",
            "Epoch 7/150\n",
            "514/514 [==============================] - 0s 511us/step - loss: 0.5367 - acc: 0.7471\n",
            "Epoch 8/150\n",
            "514/514 [==============================] - 0s 536us/step - loss: 0.5197 - acc: 0.7646\n",
            "Epoch 9/150\n",
            "514/514 [==============================] - 0s 507us/step - loss: 0.5066 - acc: 0.7724\n",
            "Epoch 10/150\n",
            "514/514 [==============================] - 0s 654us/step - loss: 0.4927 - acc: 0.7772\n",
            "Epoch 11/150\n",
            "514/514 [==============================] - 0s 618us/step - loss: 0.4832 - acc: 0.7753\n",
            "Epoch 12/150\n",
            "514/514 [==============================] - 0s 673us/step - loss: 0.4746 - acc: 0.7772\n",
            "Epoch 13/150\n",
            "514/514 [==============================] - 0s 510us/step - loss: 0.4686 - acc: 0.7821\n",
            "Epoch 14/150\n",
            "514/514 [==============================] - 0s 498us/step - loss: 0.4630 - acc: 0.7802\n",
            "Epoch 15/150\n",
            "514/514 [==============================] - 0s 562us/step - loss: 0.4580 - acc: 0.7850\n",
            "Epoch 16/150\n",
            "514/514 [==============================] - 0s 503us/step - loss: 0.4541 - acc: 0.7870\n",
            "Epoch 17/150\n",
            "514/514 [==============================] - 0s 500us/step - loss: 0.4505 - acc: 0.7870\n",
            "Epoch 18/150\n",
            "514/514 [==============================] - 0s 536us/step - loss: 0.4461 - acc: 0.7918\n",
            "Epoch 19/150\n",
            "514/514 [==============================] - 0s 534us/step - loss: 0.4449 - acc: 0.7957\n",
            "Epoch 20/150\n",
            "514/514 [==============================] - 0s 488us/step - loss: 0.4412 - acc: 0.7928\n",
            "Epoch 21/150\n",
            "514/514 [==============================] - 0s 505us/step - loss: 0.4379 - acc: 0.7947\n",
            "Epoch 22/150\n",
            "514/514 [==============================] - 0s 502us/step - loss: 0.4361 - acc: 0.7977\n",
            "Epoch 23/150\n",
            "514/514 [==============================] - 0s 529us/step - loss: 0.4350 - acc: 0.8025\n",
            "Epoch 24/150\n",
            "514/514 [==============================] - 0s 501us/step - loss: 0.4316 - acc: 0.7977\n",
            "Epoch 25/150\n",
            "514/514 [==============================] - 0s 517us/step - loss: 0.4305 - acc: 0.7986\n",
            "Epoch 26/150\n",
            "514/514 [==============================] - 0s 502us/step - loss: 0.4287 - acc: 0.8045\n",
            "Epoch 27/150\n",
            "514/514 [==============================] - 0s 526us/step - loss: 0.4273 - acc: 0.8054\n",
            "Epoch 28/150\n",
            "514/514 [==============================] - 0s 552us/step - loss: 0.4269 - acc: 0.8093\n",
            "Epoch 29/150\n",
            "514/514 [==============================] - 0s 497us/step - loss: 0.4245 - acc: 0.8093\n",
            "Epoch 30/150\n",
            "514/514 [==============================] - 0s 526us/step - loss: 0.4234 - acc: 0.8093\n",
            "Epoch 31/150\n",
            "514/514 [==============================] - 0s 507us/step - loss: 0.4220 - acc: 0.8074\n",
            "Epoch 32/150\n",
            "514/514 [==============================] - 0s 503us/step - loss: 0.4212 - acc: 0.8123\n",
            "Epoch 33/150\n",
            "514/514 [==============================] - 0s 511us/step - loss: 0.4202 - acc: 0.8132\n",
            "Epoch 34/150\n",
            "514/514 [==============================] - 0s 519us/step - loss: 0.4190 - acc: 0.8113\n",
            "Epoch 35/150\n",
            "514/514 [==============================] - 0s 506us/step - loss: 0.4184 - acc: 0.8123\n",
            "Epoch 36/150\n",
            "514/514 [==============================] - 0s 573us/step - loss: 0.4188 - acc: 0.8152\n",
            "Epoch 37/150\n",
            "514/514 [==============================] - 0s 497us/step - loss: 0.4166 - acc: 0.8123\n",
            "Epoch 38/150\n",
            "514/514 [==============================] - 0s 509us/step - loss: 0.4152 - acc: 0.8123\n",
            "Epoch 39/150\n",
            "514/514 [==============================] - 0s 500us/step - loss: 0.4151 - acc: 0.8142\n",
            "Epoch 40/150\n",
            "514/514 [==============================] - 0s 510us/step - loss: 0.4142 - acc: 0.8103\n",
            "Epoch 41/150\n",
            "514/514 [==============================] - 0s 519us/step - loss: 0.4124 - acc: 0.8132\n",
            "Epoch 42/150\n",
            "514/514 [==============================] - 0s 560us/step - loss: 0.4118 - acc: 0.8142\n",
            "Epoch 43/150\n",
            "514/514 [==============================] - 0s 562us/step - loss: 0.4105 - acc: 0.8113\n",
            "Epoch 44/150\n",
            "514/514 [==============================] - 0s 508us/step - loss: 0.4101 - acc: 0.8132\n",
            "Epoch 45/150\n",
            "514/514 [==============================] - 0s 531us/step - loss: 0.4092 - acc: 0.8152\n",
            "Epoch 46/150\n",
            "514/514 [==============================] - 0s 538us/step - loss: 0.4079 - acc: 0.8152\n",
            "Epoch 47/150\n",
            "514/514 [==============================] - 0s 541us/step - loss: 0.4082 - acc: 0.8084\n",
            "Epoch 48/150\n",
            "514/514 [==============================] - 0s 505us/step - loss: 0.4071 - acc: 0.8181\n",
            "Epoch 49/150\n",
            "514/514 [==============================] - 0s 557us/step - loss: 0.4071 - acc: 0.8142\n",
            "Epoch 50/150\n",
            "514/514 [==============================] - 0s 534us/step - loss: 0.4056 - acc: 0.8181\n",
            "Epoch 51/150\n",
            "514/514 [==============================] - 0s 497us/step - loss: 0.4044 - acc: 0.8161\n",
            "Epoch 52/150\n",
            "514/514 [==============================] - 0s 493us/step - loss: 0.4043 - acc: 0.8113\n",
            "Epoch 53/150\n",
            "514/514 [==============================] - 0s 564us/step - loss: 0.4042 - acc: 0.8171\n",
            "Epoch 54/150\n",
            "514/514 [==============================] - 0s 526us/step - loss: 0.4022 - acc: 0.8171\n",
            "Epoch 55/150\n",
            "514/514 [==============================] - 0s 520us/step - loss: 0.4017 - acc: 0.8152\n",
            "Epoch 56/150\n",
            "514/514 [==============================] - 0s 531us/step - loss: 0.4009 - acc: 0.8171\n",
            "Epoch 57/150\n",
            "514/514 [==============================] - 0s 530us/step - loss: 0.4013 - acc: 0.8152\n",
            "Epoch 58/150\n",
            "514/514 [==============================] - 0s 518us/step - loss: 0.3996 - acc: 0.8171\n",
            "Epoch 59/150\n",
            "514/514 [==============================] - 0s 518us/step - loss: 0.4001 - acc: 0.8123\n",
            "Epoch 60/150\n",
            "514/514 [==============================] - 0s 516us/step - loss: 0.3995 - acc: 0.8123\n",
            "Epoch 61/150\n",
            "514/514 [==============================] - 0s 576us/step - loss: 0.3973 - acc: 0.8152\n",
            "Epoch 62/150\n",
            "514/514 [==============================] - 0s 506us/step - loss: 0.3987 - acc: 0.8161\n",
            "Epoch 63/150\n",
            "514/514 [==============================] - 0s 512us/step - loss: 0.3998 - acc: 0.8074\n",
            "Epoch 64/150\n",
            "514/514 [==============================] - 0s 514us/step - loss: 0.3970 - acc: 0.8132\n",
            "Epoch 65/150\n",
            "514/514 [==============================] - 0s 519us/step - loss: 0.3947 - acc: 0.8161\n",
            "Epoch 66/150\n",
            "514/514 [==============================] - 0s 519us/step - loss: 0.3950 - acc: 0.8113\n",
            "Epoch 67/150\n",
            "514/514 [==============================] - 0s 506us/step - loss: 0.3941 - acc: 0.8152\n",
            "Epoch 68/150\n",
            "514/514 [==============================] - 0s 523us/step - loss: 0.3944 - acc: 0.8171\n",
            "Epoch 69/150\n",
            "514/514 [==============================] - 0s 501us/step - loss: 0.3931 - acc: 0.8171\n",
            "Epoch 70/150\n",
            "514/514 [==============================] - 0s 528us/step - loss: 0.3924 - acc: 0.8191\n",
            "Epoch 71/150\n",
            "514/514 [==============================] - 0s 507us/step - loss: 0.3924 - acc: 0.8191\n",
            "Epoch 72/150\n",
            "514/514 [==============================] - 0s 536us/step - loss: 0.3917 - acc: 0.8181\n",
            "Epoch 73/150\n",
            "514/514 [==============================] - 0s 516us/step - loss: 0.3896 - acc: 0.8210\n",
            "Epoch 74/150\n",
            "514/514 [==============================] - 0s 528us/step - loss: 0.3900 - acc: 0.8161\n",
            "Epoch 75/150\n",
            "514/514 [==============================] - 0s 564us/step - loss: 0.3895 - acc: 0.8161\n",
            "Epoch 76/150\n",
            "514/514 [==============================] - 0s 527us/step - loss: 0.3909 - acc: 0.8142\n",
            "Epoch 77/150\n",
            "514/514 [==============================] - 0s 505us/step - loss: 0.3871 - acc: 0.8171\n",
            "Epoch 78/150\n",
            "514/514 [==============================] - 0s 524us/step - loss: 0.3868 - acc: 0.8142\n",
            "Epoch 79/150\n",
            "514/514 [==============================] - 0s 505us/step - loss: 0.3870 - acc: 0.8191\n",
            "Epoch 80/150\n",
            "514/514 [==============================] - 0s 539us/step - loss: 0.3867 - acc: 0.8191\n",
            "Epoch 81/150\n",
            "514/514 [==============================] - 0s 515us/step - loss: 0.3847 - acc: 0.8200\n",
            "Epoch 82/150\n",
            "514/514 [==============================] - 0s 506us/step - loss: 0.3838 - acc: 0.8161\n",
            "Epoch 83/150\n",
            "514/514 [==============================] - 0s 549us/step - loss: 0.3835 - acc: 0.8210\n",
            "Epoch 84/150\n",
            "514/514 [==============================] - 0s 498us/step - loss: 0.3833 - acc: 0.8181\n",
            "Epoch 85/150\n",
            "514/514 [==============================] - 0s 538us/step - loss: 0.3828 - acc: 0.8181\n",
            "Epoch 86/150\n",
            "514/514 [==============================] - 0s 522us/step - loss: 0.3835 - acc: 0.8220\n",
            "Epoch 87/150\n",
            "514/514 [==============================] - 0s 522us/step - loss: 0.3820 - acc: 0.8200\n",
            "Epoch 88/150\n",
            "514/514 [==============================] - 0s 503us/step - loss: 0.3806 - acc: 0.8239\n",
            "Epoch 89/150\n",
            "514/514 [==============================] - 0s 492us/step - loss: 0.3811 - acc: 0.8220\n",
            "Epoch 90/150\n",
            "514/514 [==============================] - 0s 651us/step - loss: 0.3797 - acc: 0.8220\n",
            "Epoch 91/150\n",
            "514/514 [==============================] - 0s 663us/step - loss: 0.3795 - acc: 0.8230\n",
            "Epoch 92/150\n",
            "514/514 [==============================] - 0s 518us/step - loss: 0.3800 - acc: 0.8200\n",
            "Epoch 93/150\n",
            "514/514 [==============================] - 0s 514us/step - loss: 0.3788 - acc: 0.8210\n",
            "Epoch 94/150\n",
            "514/514 [==============================] - 0s 518us/step - loss: 0.3789 - acc: 0.8152\n",
            "Epoch 95/150\n",
            "514/514 [==============================] - 0s 501us/step - loss: 0.3774 - acc: 0.8171\n",
            "Epoch 96/150\n",
            "514/514 [==============================] - 0s 516us/step - loss: 0.3764 - acc: 0.8220\n",
            "Epoch 97/150\n",
            "514/514 [==============================] - 0s 492us/step - loss: 0.3758 - acc: 0.8191\n",
            "Epoch 98/150\n",
            "514/514 [==============================] - 0s 544us/step - loss: 0.3762 - acc: 0.8171\n",
            "Epoch 99/150\n",
            "514/514 [==============================] - 0s 500us/step - loss: 0.3747 - acc: 0.8268\n",
            "Epoch 100/150\n",
            "514/514 [==============================] - 0s 509us/step - loss: 0.3749 - acc: 0.8171\n",
            "Epoch 101/150\n",
            "514/514 [==============================] - 0s 508us/step - loss: 0.3744 - acc: 0.8181\n",
            "Epoch 102/150\n",
            "514/514 [==============================] - 0s 529us/step - loss: 0.3737 - acc: 0.8200\n",
            "Epoch 103/150\n",
            "514/514 [==============================] - 0s 506us/step - loss: 0.3726 - acc: 0.8249\n",
            "Epoch 104/150\n",
            "514/514 [==============================] - 0s 513us/step - loss: 0.3715 - acc: 0.8181\n",
            "Epoch 105/150\n",
            "514/514 [==============================] - 0s 510us/step - loss: 0.3715 - acc: 0.8200\n",
            "Epoch 106/150\n",
            "514/514 [==============================] - 0s 526us/step - loss: 0.3714 - acc: 0.8220\n",
            "Epoch 107/150\n",
            "514/514 [==============================] - 0s 560us/step - loss: 0.3701 - acc: 0.8259\n",
            "Epoch 108/150\n",
            "514/514 [==============================] - 0s 564us/step - loss: 0.3696 - acc: 0.8230\n",
            "Epoch 109/150\n",
            "514/514 [==============================] - 0s 558us/step - loss: 0.3693 - acc: 0.8288\n",
            "Epoch 110/150\n",
            "514/514 [==============================] - 0s 527us/step - loss: 0.3683 - acc: 0.8259\n",
            "Epoch 111/150\n",
            "514/514 [==============================] - 0s 566us/step - loss: 0.3687 - acc: 0.8249\n",
            "Epoch 112/150\n",
            "514/514 [==============================] - 0s 510us/step - loss: 0.3675 - acc: 0.8259\n",
            "Epoch 113/150\n",
            "514/514 [==============================] - 0s 572us/step - loss: 0.3670 - acc: 0.8298\n",
            "Epoch 114/150\n",
            "514/514 [==============================] - 0s 504us/step - loss: 0.3671 - acc: 0.8259\n",
            "Epoch 115/150\n",
            "514/514 [==============================] - 0s 559us/step - loss: 0.3668 - acc: 0.8288\n",
            "Epoch 116/150\n",
            "514/514 [==============================] - 0s 551us/step - loss: 0.3664 - acc: 0.8230\n",
            "Epoch 117/150\n",
            "514/514 [==============================] - 0s 568us/step - loss: 0.3664 - acc: 0.8259\n",
            "Epoch 118/150\n",
            "514/514 [==============================] - 0s 518us/step - loss: 0.3654 - acc: 0.8288\n",
            "Epoch 119/150\n",
            "514/514 [==============================] - 0s 520us/step - loss: 0.3658 - acc: 0.8200\n",
            "Epoch 120/150\n",
            "514/514 [==============================] - 0s 534us/step - loss: 0.3645 - acc: 0.8307\n",
            "Epoch 121/150\n",
            "514/514 [==============================] - 0s 591us/step - loss: 0.3635 - acc: 0.8288\n",
            "Epoch 122/150\n",
            "514/514 [==============================] - 0s 509us/step - loss: 0.3645 - acc: 0.8230\n",
            "Epoch 123/150\n",
            "514/514 [==============================] - 0s 545us/step - loss: 0.3631 - acc: 0.8317\n",
            "Epoch 124/150\n",
            "514/514 [==============================] - 0s 539us/step - loss: 0.3623 - acc: 0.8278\n",
            "Epoch 125/150\n",
            "514/514 [==============================] - 0s 566us/step - loss: 0.3621 - acc: 0.8249\n",
            "Epoch 126/150\n",
            "514/514 [==============================] - 0s 513us/step - loss: 0.3618 - acc: 0.8259\n",
            "Epoch 127/150\n",
            "514/514 [==============================] - 0s 555us/step - loss: 0.3615 - acc: 0.8268\n",
            "Epoch 128/150\n",
            "514/514 [==============================] - 0s 573us/step - loss: 0.3606 - acc: 0.8317\n",
            "Epoch 129/150\n",
            "514/514 [==============================] - 0s 520us/step - loss: 0.3599 - acc: 0.8288\n",
            "Epoch 130/150\n",
            "514/514 [==============================] - 0s 524us/step - loss: 0.3611 - acc: 0.8239\n",
            "Epoch 131/150\n",
            "514/514 [==============================] - 0s 560us/step - loss: 0.3602 - acc: 0.8259\n",
            "Epoch 132/150\n",
            "514/514 [==============================] - 0s 552us/step - loss: 0.3590 - acc: 0.8288\n",
            "Epoch 133/150\n",
            "514/514 [==============================] - 0s 534us/step - loss: 0.3585 - acc: 0.8278\n",
            "Epoch 134/150\n",
            "514/514 [==============================] - 0s 552us/step - loss: 0.3580 - acc: 0.8327\n",
            "Epoch 135/150\n",
            "514/514 [==============================] - 0s 574us/step - loss: 0.3583 - acc: 0.8337\n",
            "Epoch 136/150\n",
            "514/514 [==============================] - 0s 523us/step - loss: 0.3578 - acc: 0.8317\n",
            "Epoch 137/150\n",
            "514/514 [==============================] - 0s 547us/step - loss: 0.3573 - acc: 0.8327\n",
            "Epoch 138/150\n",
            "514/514 [==============================] - 0s 558us/step - loss: 0.3576 - acc: 0.8298\n",
            "Epoch 139/150\n",
            "514/514 [==============================] - 0s 560us/step - loss: 0.3570 - acc: 0.8288\n",
            "Epoch 140/150\n",
            "514/514 [==============================] - 0s 506us/step - loss: 0.3552 - acc: 0.8327\n",
            "Epoch 141/150\n",
            "514/514 [==============================] - 0s 692us/step - loss: 0.3546 - acc: 0.8346\n",
            "Epoch 142/150\n",
            "514/514 [==============================] - 0s 545us/step - loss: 0.3546 - acc: 0.8327\n",
            "Epoch 143/150\n",
            "514/514 [==============================] - 0s 551us/step - loss: 0.3543 - acc: 0.8288\n",
            "Epoch 144/150\n",
            "514/514 [==============================] - 0s 570us/step - loss: 0.3533 - acc: 0.8317\n",
            "Epoch 145/150\n",
            "514/514 [==============================] - 0s 578us/step - loss: 0.3525 - acc: 0.8337\n",
            "Epoch 146/150\n",
            "514/514 [==============================] - 0s 577us/step - loss: 0.3551 - acc: 0.8307\n",
            "Epoch 147/150\n",
            "514/514 [==============================] - 0s 518us/step - loss: 0.3525 - acc: 0.8307\n",
            "Epoch 148/150\n",
            "514/514 [==============================] - 0s 538us/step - loss: 0.3521 - acc: 0.8366\n",
            "Epoch 149/150\n",
            "514/514 [==============================] - 0s 579us/step - loss: 0.3512 - acc: 0.8317\n",
            "Epoch 150/150\n",
            "514/514 [==============================] - 0s 549us/step - loss: 0.3512 - acc: 0.8327\n"
          ],
          "name": "stdout"
        },
        {
          "output_type": "execute_result",
          "data": {
            "text/plain": [
              "<keras.callbacks.History at 0x7f6587d32c18>"
            ]
          },
          "metadata": {
            "tags": []
          },
          "execution_count": 25
        }
      ]
    },
    {
      "metadata": {
        "id": "oGaAYJU0u9S0",
        "colab_type": "text"
      },
      "cell_type": "markdown",
      "source": [
        "# **Post training of the model.**"
      ]
    },
    {
      "metadata": {
        "id": "YYluzBBUy2WQ",
        "colab_type": "text"
      },
      "cell_type": "markdown",
      "source": [
        "* **Get a prediction.**\n",
        "* **Evaluate the accuracy of the prediction.**\n",
        "* **Plot the loss function.**"
      ]
    },
    {
      "metadata": {
        "id": "i0UQeVGkzYUR",
        "colab_type": "code",
        "outputId": "84ed2371-9ed1-4b3e-dc0b-f813306e4aba",
        "colab": {
          "base_uri": "https://localhost:8080/",
          "height": 34
        }
      },
      "cell_type": "code",
      "source": [
        "### Prediction and Evaluation \n",
        "y_pred = model.predict(X_test)\n",
        "\n",
        "y_pred = np.argmax(y_pred, axis=1) \n",
        "\n",
        "accuracy_score(y_test, y_pred) "
      ],
      "execution_count": 26,
      "outputs": [
        {
          "output_type": "execute_result",
          "data": {
            "text/plain": [
              "0.7244094488188977"
            ]
          },
          "metadata": {
            "tags": []
          },
          "execution_count": 26
        }
      ]
    },
    {
      "metadata": {
        "id": "ozTckBlYhxvK",
        "colab_type": "code",
        "colab": {
          "base_uri": "https://localhost:8080/",
          "height": 378
        },
        "outputId": "c9259c3d-05e3-4894-fe5b-9f4c16e789d8"
      },
      "cell_type": "code",
      "source": [
        "### Plot the loss against the epochs\n",
        "plt.plot(model.history.epoch, model.history.history['loss'])\n",
        "plt.xlabel('epochs')\n",
        "plt.ylabel('loss') "
      ],
      "execution_count": 27,
      "outputs": [
        {
          "output_type": "execute_result",
          "data": {
            "text/plain": [
              "Text(0, 0.5, 'loss')"
            ]
          },
          "metadata": {
            "tags": []
          },
          "execution_count": 27
        },
        {
          "output_type": "display_data",
          "data": {
            "image/png": "[encoded data removed]",
            "text/plain": [
              "<Figure size 576x396 with 1 Axes>"
            ]
          },
          "metadata": {
            "tags": []
          }
        }
      ]
    }
  ]
}